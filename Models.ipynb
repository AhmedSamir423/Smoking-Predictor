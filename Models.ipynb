{
 "cells": [
  {
   "cell_type": "code",
   "execution_count": 1,
   "metadata": {},
   "outputs": [],
   "source": [
    "from sklearn.ensemble import RandomForestClassifier\n",
    "from sklearn.ensemble import VotingClassifier\n",
    "from sklearn.linear_model import LogisticRegression\n",
    "from sklearn.svm import LinearSVC\n",
    "from sklearn.model_selection import train_test_split\n",
    "import pandas as pd\n",
    "from sklearn.metrics import accuracy_score,classification_report, confusion_matrix\n",
    "from sklearn.tree import DecisionTreeClassifier\n",
    "from sklearn.ensemble import BaggingClassifier"
   ]
  },
  {
   "cell_type": "markdown",
   "metadata": {},
   "source": [
    "## Voting Classifiers"
   ]
  },
  {
   "cell_type": "code",
   "execution_count": 2,
   "metadata": {},
   "outputs": [],
   "source": [
    "\n",
    "modeldic ={}\n",
    "# Load the data\n",
    "data_path = r\"newdataframe.csv\"\n",
    "df = pd.read_csv(data_path)\n",
    "df = df.dropna(subset=['smoking'])\n",
    "\n",
    "X = df.drop(columns=['smoking'])\n",
    "y = df['smoking']\n",
    "\n",
    "X_train, X_test, y_train, y_test = train_test_split(X, y, test_size=0.2, shuffle=True, random_state=42)\n"
   ]
  },
  {
   "cell_type": "code",
   "execution_count": 3,
   "metadata": {},
   "outputs": [
    {
     "name": "stderr",
     "output_type": "stream",
     "text": [
      "C:\\Users\\Youssef_Abdelrazik\\AppData\\Roaming\\Python\\Python313\\site-packages\\sklearn\\linear_model\\_logistic.py:465: ConvergenceWarning: lbfgs failed to converge (status=1):\n",
      "STOP: TOTAL NO. OF ITERATIONS REACHED LIMIT.\n",
      "\n",
      "Increase the number of iterations (max_iter) or scale the data as shown in:\n",
      "    https://scikit-learn.org/stable/modules/preprocessing.html\n",
      "Please also refer to the documentation for alternative solver options:\n",
      "    https://scikit-learn.org/stable/modules/linear_model.html#logistic-regression\n",
      "  n_iter_i = _check_optimize_result(\n"
     ]
    },
    {
     "name": "stdout",
     "output_type": "stream",
     "text": [
      "lr Accuracy: 0.6987\n",
      "dt Accuracy: 0.6827\n",
      "svc Accuracy: 0.7428\n"
     ]
    },
    {
     "name": "stderr",
     "output_type": "stream",
     "text": [
      "C:\\Users\\Youssef_Abdelrazik\\AppData\\Roaming\\Python\\Python313\\site-packages\\sklearn\\linear_model\\_logistic.py:465: ConvergenceWarning: lbfgs failed to converge (status=1):\n",
      "STOP: TOTAL NO. OF ITERATIONS REACHED LIMIT.\n",
      "\n",
      "Increase the number of iterations (max_iter) or scale the data as shown in:\n",
      "    https://scikit-learn.org/stable/modules/preprocessing.html\n",
      "Please also refer to the documentation for alternative solver options:\n",
      "    https://scikit-learn.org/stable/modules/linear_model.html#logistic-regression\n",
      "  n_iter_i = _check_optimize_result(\n"
     ]
    },
    {
     "name": "stdout",
     "output_type": "stream",
     "text": [
      "\n",
      "Voting Classifier Accuracy: 0.7345\n"
     ]
    }
   ],
   "source": [
    "\n",
    "# Define the classifiers\n",
    "clf1 = LogisticRegression(max_iter=10000, solver='lbfgs')  # LogisticRegression without probability=True for hard voting\n",
    "clf2 = DecisionTreeClassifier()\n",
    "clf3 = LinearSVC()  # SVC without probability=True for hard voting\n",
    "\n",
    "# Voting Classifier with hard voting\n",
    "voting_clf = VotingClassifier(\n",
    "    estimators=[('lr', clf1), ('dt', clf2), ('svc', clf3)],\n",
    "    voting='hard'  # Use hard voting (majority class voting)\n",
    ")\n",
    "\n",
    "# Fit each base model and print accuracy\n",
    "for name, clf in voting_clf.estimators:\n",
    "    clf.fit(X_train, y_train)\n",
    "    y_pred = clf.predict(X_test)\n",
    "    acc = accuracy_score(y_test, y_pred)\n",
    "    print(f\"{name} Accuracy: {acc:.4f}\")\n",
    "\n",
    "# Fit the ensemble and print its accuracy\n",
    "voting_clf.fit(X_train, y_train)\n",
    "ensemble_pred = voting_clf.predict(X_test)\n",
    "ensemble_acc = accuracy_score(y_test, ensemble_pred)\n",
    "print(f\"\\nVoting Classifier Accuracy: {ensemble_acc:.4f}\")\n",
    "\n",
    "modeldic[voting_clf] =ensemble_acc\n",
    "\n"
   ]
  },
  {
   "cell_type": "markdown",
   "metadata": {},
   "source": [
    "## Bagging "
   ]
  },
  {
   "cell_type": "code",
   "execution_count": 5,
   "metadata": {},
   "outputs": [
    {
     "name": "stdout",
     "output_type": "stream",
     "text": [
      "Bagging Classifier Accuracy: 0.7263367337270631\n"
     ]
    }
   ],
   "source": [
    "\n",
    "# Base estimator\n",
    "base_clf = DecisionTreeClassifier()\n",
    "\n",
    "# Bagging classifier\n",
    "bagging_clf = BaggingClassifier(\n",
    "    estimator=base_clf,\n",
    "    n_estimators=100,      # Number of base models\n",
    "    max_samples=0.8,       # Fraction of data used per model\n",
    "    bootstrap=True,        # Sample with replacement\n",
    "    random_state=42\n",
    ")\n",
    "\n",
    "# Fit the bagging model\n",
    "bagging_clf.fit(X_train, y_train)\n",
    "\n",
    "# Predict and evaluate\n",
    "y_pred = bagging_clf.predict(X_test)\n",
    "print(\"Bagging Classifier Accuracy:\", accuracy_score(y_test, y_pred))\n",
    "\n",
    "\n",
    "modeldic[bagging_clf] =accuracy_score(y_test, y_pred)"
   ]
  },
  {
   "cell_type": "markdown",
   "metadata": {},
   "source": [
    "## Out-of-Bag Evaluation\n"
   ]
  },
  {
   "cell_type": "code",
   "execution_count": null,
   "metadata": {},
   "outputs": [],
   "source": []
  },
  {
   "cell_type": "markdown",
   "metadata": {},
   "source": [
    "## Random Forests"
   ]
  },
  {
   "cell_type": "code",
   "execution_count": 6,
   "metadata": {},
   "outputs": [],
   "source": [
    "\n",
    "import numpy as np\n",
    "from sklearn.tree import DecisionTreeClassifier\n",
    "from sklearn.utils import resample\n",
    "from sklearn.metrics import accuracy_score\n",
    "\n",
    "class RandomForest:\n",
    "    def __init__(self, n_estimators=100,max_depth=None, random_state=None):\n",
    "        self.n_estimators = n_estimators  # Number of trees\n",
    "        self.max_depth = max_depth        # Maximum depth for decision trees\n",
    "        self.random_state = random_state  # For reproducibility\n",
    "        self.trees = []  # To store all individual decision trees\n",
    "\n",
    "    def fit(self, X_train, y_train):\n",
    "        np.random.seed(self.random_state)\n",
    "        for _ in range(self.n_estimators):\n",
    "            # Bootstrap sampling: sampling with replacement\n",
    "            X_resampled, y_resampled = resample(X_train, y_train, random_state=self.random_state)\n",
    "            tree = DecisionTreeClassifier(max_depth=self.max_depth, random_state=self.random_state)\n",
    "            tree.fit(X_resampled, y_resampled)\n",
    "            self.trees.append(tree)\n",
    "\n",
    "    def predict(self, X_test):\n",
    "        # Collect predictions from each tree\n",
    "        tree_preds = np.zeros((len(X_test), self.n_estimators))\n",
    "        for i, tree in enumerate(self.trees):\n",
    "            tree_preds[:, i] = tree.predict(X_test)\n",
    "\n",
    "        # Majority voting: for each test sample, choose the most frequent prediction\n",
    "        majority_preds = [np.bincount(tree_preds[i, :].astype(int)).argmax() for i in range(len(X_test))]\n",
    "        return np.array(majority_preds)\n",
    "\n",
    "    def score(self, X_test, y_test):\n",
    "        y_pred = self.predict(X_test)\n",
    "        return accuracy_score(y_test, y_pred)\n",
    "\n"
   ]
  },
  {
   "cell_type": "code",
   "execution_count": 7,
   "metadata": {},
   "outputs": [
    {
     "name": "stdout",
     "output_type": "stream",
     "text": [
      "Random Forest Accuracy: 0.7428\n"
     ]
    }
   ],
   "source": [
    "\n",
    "\n",
    "rf = RandomForest(n_estimators=10, max_depth=5, random_state=42)\n",
    "\n",
    "\n",
    "rf.fit(X_train, y_train)\n",
    "\n",
    "\n",
    "accuracy = rf.score(X_test, y_test)\n",
    "print(f\"Random Forest Accuracy: {accuracy:.4f}\")\n",
    "\n",
    "modeldic[rf] =accuracy"
   ]
  },
  {
   "cell_type": "markdown",
   "metadata": {},
   "source": [
    "## Boosting "
   ]
  },
  {
   "cell_type": "code",
   "execution_count": 11,
   "metadata": {},
   "outputs": [],
   "source": [
    "import numpy as np\n",
    "from sklearn.tree import DecisionTreeClassifier\n",
    "from sklearn.metrics import accuracy_score\n",
    "\n",
    "class AdaBoost:\n",
    "    def __init__(self, n_estimators=100, random_state=None):\n",
    "        self.n_estimators = n_estimators  # Number of classifiers to train\n",
    "        self.random_state = random_state\n",
    "        self.alphas = []  # Stores the weights of each classifier\n",
    "        self.models = []  # Stores the individual classifiers\n",
    "\n",
    "    def fit(self, X_train, y_train):\n",
    "        n_samples, n_features = X_train.shape\n",
    "        # Initialize the weights of each sample to be uniform\n",
    "        w = np.ones(n_samples) / n_samples\n",
    "        np.random.seed(self.random_state)\n",
    "\n",
    "        for _ in range(self.n_estimators):\n",
    "            # Train a weak classifier using weighted samples\n",
    "            tree = DecisionTreeClassifier(max_depth=3)  # Shallow tree for weak learner\n",
    "            tree.fit(X_train, y_train, sample_weight=w)  # Sample weights passed during training\n",
    "            \n",
    "            \n",
    "            y_pred = tree.predict(X_train)\n",
    "            \n",
    "            \n",
    "            incorrect = (y_pred != y_train)\n",
    "            error = np.sum(w * incorrect) / np.sum(w)  # Weighted error\n",
    "\n",
    "            \n",
    "            alpha = 0.5 * np.log((1 - error) / (error + 1e-10))\n",
    "            \n",
    "            \n",
    "            w = w * np.exp(-alpha * y_train * y_pred)\n",
    "            w = w / np.sum(w)  # Normalize the weights\n",
    "            \n",
    "            \n",
    "            self.models.append(tree)\n",
    "            self.alphas.append(alpha)\n",
    "\n",
    "    def predict(self, X_test):\n",
    "        # Compute the weighted sum of the predictions from all weak classifiers\n",
    "        pred = np.zeros(X_test.shape[0])\n",
    "        for alpha, tree in zip(self.alphas, self.models):\n",
    "            pred += alpha * tree.predict(X_test)\n",
    "        \n",
    "        # The final prediction is the sign of the weighted sum\n",
    "        return np.sign(pred)\n",
    "\n",
    "    def score(self, X_test, y_test):\n",
    "        y_pred = self.predict(X_test)\n",
    "        return accuracy_score(y_test, y_pred)\n"
   ]
  },
  {
   "cell_type": "code",
   "execution_count": 12,
   "metadata": {},
   "outputs": [
    {
     "name": "stdout",
     "output_type": "stream",
     "text": [
      "AdaBoost Accuracy: 0.7314\n"
     ]
    }
   ],
   "source": [
    "\n",
    "ab = AdaBoost(n_estimators=10, random_state=42)\n",
    "\n",
    "# Train the model\n",
    "ab.fit(X_train, y_train)\n",
    "\n",
    "# Evaluate the model\n",
    "accuracy = ab.score(X_test, y_test)\n",
    "print(f\"AdaBoost Accuracy: {accuracy:.4f}\")\n",
    "\n",
    "modeldic[ab] =accuracy"
   ]
  },
  {
   "cell_type": "code",
   "execution_count": 10,
   "metadata": {},
   "outputs": [],
   "source": [
    "SortedRDict= {k: v for k, v in sorted(modeldic.items(), key=lambda item: item[1] , reverse = True)}"
   ]
  },
  {
   "cell_type": "code",
   "execution_count": 13,
   "metadata": {},
   "outputs": [
    {
     "name": "stdout",
     "output_type": "stream",
     "text": [
      "Fitting 5 folds for each of 5 candidates, totalling 25 fits\n",
      "Best hyperparameters found:  {'n_estimators': 100}\n",
      "Best score found:  0.7428602987717785\n"
     ]
    }
   ],
   "source": [
    "from sklearn.ensemble import RandomForestClassifier\n",
    "from sklearn.model_selection import GridSearchCV\n",
    "\n",
    "\n",
    "highest_model = RandomForestClassifier(n_estimators=10, max_depth=5, random_state=42)\n",
    "\n",
    "param_grid = {\n",
    "    'n_estimators': [10, 20, 50, 100, 200]\n",
    "}\n",
    "\n",
    "grid_search = GridSearchCV(estimator=highest_model, param_grid=param_grid, \n",
    "                         cv=5, n_jobs=-1, verbose=2, scoring='accuracy')\n",
    "\n",
    "grid_search.fit(X_train, y_train)\n",
    "\n",
    "print(\"Best hyperparameters found: \", grid_search.best_params_)\n",
    "print(\"Best score found: \", grid_search.best_score_)"
   ]
  },
  {
   "cell_type": "code",
   "execution_count": 1,
   "metadata": {},
   "outputs": [
    {
     "ename": "NameError",
     "evalue": "name 'X' is not defined",
     "output_type": "error",
     "traceback": [
      "\u001b[1;31m---------------------------------------------------------------------------\u001b[0m",
      "\u001b[1;31mNameError\u001b[0m                                 Traceback (most recent call last)",
      "Cell \u001b[1;32mIn[1], line 31\u001b[0m\n\u001b[0;32m     12\u001b[0m param_distributions \u001b[38;5;241m=\u001b[39m {\n\u001b[0;32m     13\u001b[0m     \u001b[38;5;124m'\u001b[39m\u001b[38;5;124mn_estimators\u001b[39m\u001b[38;5;124m'\u001b[39m: randint(\u001b[38;5;241m10\u001b[39m, \u001b[38;5;241m200\u001b[39m),\n\u001b[0;32m     14\u001b[0m     \u001b[38;5;124m'\u001b[39m\u001b[38;5;124mmax_depth\u001b[39m\u001b[38;5;124m'\u001b[39m: randint(\u001b[38;5;241m1\u001b[39m, \u001b[38;5;241m20\u001b[39m),\n\u001b[0;32m     15\u001b[0m     \u001b[38;5;124m'\u001b[39m\u001b[38;5;124mmin_samples_split\u001b[39m\u001b[38;5;124m'\u001b[39m: randint(\u001b[38;5;241m2\u001b[39m, \u001b[38;5;241m10\u001b[39m),\n\u001b[0;32m     16\u001b[0m     \u001b[38;5;124m'\u001b[39m\u001b[38;5;124mmin_samples_leaf\u001b[39m\u001b[38;5;124m'\u001b[39m: randint(\u001b[38;5;241m1\u001b[39m, \u001b[38;5;241m10\u001b[39m)\n\u001b[0;32m     17\u001b[0m }\n\u001b[0;32m     20\u001b[0m random_search \u001b[38;5;241m=\u001b[39m RandomizedSearchCV(\n\u001b[0;32m     21\u001b[0m     estimator\u001b[38;5;241m=\u001b[39mhighest_model,\n\u001b[0;32m     22\u001b[0m     param_distributions\u001b[38;5;241m=\u001b[39mparam_distributions,\n\u001b[1;32m   (...)\u001b[0m\n\u001b[0;32m     27\u001b[0m     n_jobs\u001b[38;5;241m=\u001b[39m\u001b[38;5;241m-\u001b[39m\u001b[38;5;241m1\u001b[39m  \n\u001b[0;32m     28\u001b[0m )\n\u001b[1;32m---> 31\u001b[0m random_search\u001b[38;5;241m.\u001b[39mfit(\u001b[43mX\u001b[49m, y)\n\u001b[0;32m     33\u001b[0m \u001b[38;5;28mprint\u001b[39m(\u001b[38;5;124m\"\u001b[39m\u001b[38;5;124mBest Parameters:\u001b[39m\u001b[38;5;124m\"\u001b[39m, random_search\u001b[38;5;241m.\u001b[39mbest_params_)\n\u001b[0;32m     34\u001b[0m \u001b[38;5;28mprint\u001b[39m(\u001b[38;5;124m\"\u001b[39m\u001b[38;5;124mBest Score:\u001b[39m\u001b[38;5;124m\"\u001b[39m, random_search\u001b[38;5;241m.\u001b[39mbest_score_)\n",
      "\u001b[1;31mNameError\u001b[0m: name 'X' is not defined"
     ]
    }
   ],
   "source": [
    "from sklearn.model_selection import RandomizedSearchCV\n",
    "from sklearn.ensemble import RandomForestClassifier\n",
    "from sklearn.datasets import load_iris\n",
    "from scipy.stats import randint\n",
    "\n",
    "\n",
    "\n",
    "\n",
    "highest_model = RandomForestClassifier(random_state=42)\n",
    "\n",
    "\n",
    "param_distributions = {\n",
    "    'n_estimators': randint(10, 200),\n",
    "    'max_depth': randint(1, 20),\n",
    "    'min_samples_split': randint(2, 10),\n",
    "    'min_samples_leaf': randint(1, 10)\n",
    "}\n",
    "\n",
    "\n",
    "random_search = RandomizedSearchCV(\n",
    "    estimator=highest_model,\n",
    "    param_distributions=param_distributions,\n",
    "    n_iter=50,  \n",
    "    scoring='accuracy',\n",
    "    cv=5,  \n",
    "    random_state=42,\n",
    "    n_jobs=-1  \n",
    ")\n",
    "\n",
    "\n",
    "random_search.fit(X, y)\n",
    "\n",
    "print(\"Best Parameters:\", random_search.best_params_)\n",
    "print(\"Best Score:\", random_search.best_score_)\n"
   ]
  }
 ],
 "metadata": {
  "kernelspec": {
   "display_name": "Python 3",
   "language": "python",
   "name": "python3"
  },
  "language_info": {
   "codemirror_mode": {
    "name": "ipython",
    "version": 3
   },
   "file_extension": ".py",
   "mimetype": "text/x-python",
   "name": "python",
   "nbconvert_exporter": "python",
   "pygments_lexer": "ipython3",
   "version": "3.12.3"
  }
 },
 "nbformat": 4,
 "nbformat_minor": 2
}
